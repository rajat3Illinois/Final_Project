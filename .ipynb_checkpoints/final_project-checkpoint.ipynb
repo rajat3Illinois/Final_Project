{
 "cells": [
  {
   "cell_type": "code",
   "execution_count": 1,
   "metadata": {},
   "outputs": [],
   "source": [
    "import pandas as pd\n",
    "import json as json\n"
   ]
  },
  {
   "cell_type": "code",
   "execution_count": 2,
   "metadata": {
    "pycharm": {
     "is_executing": true
    }
   },
   "outputs": [
    {
     "name": "stdout",
     "output_type": "stream",
     "text": [
      "Requirement already satisfied: geopandas in /Users/Rajat_Other/opt/anaconda3/lib/python3.8/site-packages (0.10.2)\n",
      "Requirement already satisfied: shapely>=1.6 in /Users/Rajat_Other/opt/anaconda3/lib/python3.8/site-packages (from geopandas) (1.8.1.post1)\n",
      "Requirement already satisfied: pyproj>=2.2.0 in /Users/Rajat_Other/opt/anaconda3/lib/python3.8/site-packages (from geopandas) (3.3.1)\n",
      "Requirement already satisfied: fiona>=1.8 in /Users/Rajat_Other/opt/anaconda3/lib/python3.8/site-packages (from geopandas) (1.8.21)\n",
      "Requirement already satisfied: pandas>=0.25.0 in /Users/Rajat_Other/opt/anaconda3/lib/python3.8/site-packages (from geopandas) (1.1.3)\n",
      "Requirement already satisfied: certifi in /Users/Rajat_Other/opt/anaconda3/lib/python3.8/site-packages (from pyproj>=2.2.0->geopandas) (2020.6.20)\n",
      "Requirement already satisfied: munch in /Users/Rajat_Other/opt/anaconda3/lib/python3.8/site-packages (from fiona>=1.8->geopandas) (2.5.0)\n",
      "Requirement already satisfied: setuptools in /Users/Rajat_Other/opt/anaconda3/lib/python3.8/site-packages (from fiona>=1.8->geopandas) (50.3.1.post20201107)\n",
      "Requirement already satisfied: click-plugins>=1.0 in /Users/Rajat_Other/opt/anaconda3/lib/python3.8/site-packages (from fiona>=1.8->geopandas) (1.1.1)\n",
      "Requirement already satisfied: attrs>=17 in /Users/Rajat_Other/opt/anaconda3/lib/python3.8/site-packages (from fiona>=1.8->geopandas) (20.3.0)\n",
      "Requirement already satisfied: six>=1.7 in /Users/Rajat_Other/opt/anaconda3/lib/python3.8/site-packages (from fiona>=1.8->geopandas) (1.15.0)\n",
      "Requirement already satisfied: click>=4.0 in /Users/Rajat_Other/opt/anaconda3/lib/python3.8/site-packages (from fiona>=1.8->geopandas) (7.1.2)\n",
      "Requirement already satisfied: cligj>=0.5 in /Users/Rajat_Other/opt/anaconda3/lib/python3.8/site-packages (from fiona>=1.8->geopandas) (0.7.2)\n",
      "Requirement already satisfied: pytz>=2017.2 in /Users/Rajat_Other/opt/anaconda3/lib/python3.8/site-packages (from pandas>=0.25.0->geopandas) (2020.1)\n",
      "Requirement already satisfied: numpy>=1.15.4 in /Users/Rajat_Other/opt/anaconda3/lib/python3.8/site-packages (from pandas>=0.25.0->geopandas) (1.19.2)\n",
      "Requirement already satisfied: python-dateutil>=2.7.3 in /Users/Rajat_Other/opt/anaconda3/lib/python3.8/site-packages (from pandas>=0.25.0->geopandas) (2.8.1)\n"
     ]
    }
   ],
   "source": [
    "! pip install geopandas"
   ]
  },
  {
   "cell_type": "code",
   "execution_count": 5,
   "metadata": {
    "pycharm": {
     "is_executing": true
    }
   },
   "outputs": [
    {
     "data": {
      "text/html": [
       "<div>\n",
       "<style scoped>\n",
       "    .dataframe tbody tr th:only-of-type {\n",
       "        vertical-align: middle;\n",
       "    }\n",
       "\n",
       "    .dataframe tbody tr th {\n",
       "        vertical-align: top;\n",
       "    }\n",
       "\n",
       "    .dataframe thead th {\n",
       "        text-align: right;\n",
       "    }\n",
       "</style>\n",
       "<table border=\"1\" class=\"dataframe\">\n",
       "  <thead>\n",
       "    <tr style=\"text-align: right;\">\n",
       "      <th></th>\n",
       "      <th>Incident_Date</th>\n",
       "      <th>Incident_Unit_Arrived_On_Scene_</th>\n",
       "      <th>Medical_Device_Event_Date_Time_</th>\n",
       "      <th>On_Scene_Time_to_First_12_Lead</th>\n",
       "      <th>ObjectId</th>\n",
       "    </tr>\n",
       "  </thead>\n",
       "  <tbody>\n",
       "    <tr>\n",
       "      <th>0</th>\n",
       "      <td>2016/09/13 07:00:00+00</td>\n",
       "      <td>2016/09/14 05:09:00+00</td>\n",
       "      <td>9/13/2016 22:25</td>\n",
       "      <td>2020/01/02 07:15:11+00</td>\n",
       "      <td>1</td>\n",
       "    </tr>\n",
       "    <tr>\n",
       "      <th>1</th>\n",
       "      <td>2017/03/06 07:00:00+00</td>\n",
       "      <td>2017/03/06 21:24:00+00</td>\n",
       "      <td>3/6/2017 14:45</td>\n",
       "      <td>2020/01/02 07:20:15+00</td>\n",
       "      <td>2</td>\n",
       "    </tr>\n",
       "    <tr>\n",
       "      <th>2</th>\n",
       "      <td>2016/09/13 07:00:00+00</td>\n",
       "      <td>2016/09/14 05:09:00+00</td>\n",
       "      <td>9/13/2016 22:25</td>\n",
       "      <td>2020/01/02 07:15:11+00</td>\n",
       "      <td>3</td>\n",
       "    </tr>\n",
       "    <tr>\n",
       "      <th>3</th>\n",
       "      <td>2016/09/15 07:00:00+00</td>\n",
       "      <td>2016/09/15 18:12:00+00</td>\n",
       "      <td>9/15/2016 11:22</td>\n",
       "      <td>2020/01/02 07:10:41+00</td>\n",
       "      <td>4</td>\n",
       "    </tr>\n",
       "    <tr>\n",
       "      <th>4</th>\n",
       "      <td>2016/09/15 07:00:00+00</td>\n",
       "      <td>2016/09/15 18:12:00+00</td>\n",
       "      <td>9/15/2016 11:22</td>\n",
       "      <td>2020/01/02 07:10:41+00</td>\n",
       "      <td>5</td>\n",
       "    </tr>\n",
       "    <tr>\n",
       "      <th>...</th>\n",
       "      <td>...</td>\n",
       "      <td>...</td>\n",
       "      <td>...</td>\n",
       "      <td>...</td>\n",
       "      <td>...</td>\n",
       "    </tr>\n",
       "    <tr>\n",
       "      <th>247</th>\n",
       "      <td>2016/09/13 07:00:00+00</td>\n",
       "      <td>2016/09/14 05:09:00+00</td>\n",
       "      <td>9/13/2016 22:12</td>\n",
       "      <td>2020/01/02 07:02:49+00</td>\n",
       "      <td>248</td>\n",
       "    </tr>\n",
       "    <tr>\n",
       "      <th>248</th>\n",
       "      <td>2016/09/13 07:00:00+00</td>\n",
       "      <td>2016/09/14 05:09:00+00</td>\n",
       "      <td>9/13/2016 22:21</td>\n",
       "      <td>2020/01/02 07:11:50+00</td>\n",
       "      <td>249</td>\n",
       "    </tr>\n",
       "    <tr>\n",
       "      <th>249</th>\n",
       "      <td>2016/09/13 07:00:00+00</td>\n",
       "      <td>2016/09/14 05:09:00+00</td>\n",
       "      <td>9/13/2016 22:21</td>\n",
       "      <td>2020/01/02 07:11:50+00</td>\n",
       "      <td>250</td>\n",
       "    </tr>\n",
       "    <tr>\n",
       "      <th>250</th>\n",
       "      <td>2016/09/13 07:00:00+00</td>\n",
       "      <td>2016/09/14 05:09:00+00</td>\n",
       "      <td>9/13/2016 22:21</td>\n",
       "      <td>2020/01/02 07:11:50+00</td>\n",
       "      <td>251</td>\n",
       "    </tr>\n",
       "    <tr>\n",
       "      <th>251</th>\n",
       "      <td>2016/09/13 07:00:00+00</td>\n",
       "      <td>2016/09/14 05:09:00+00</td>\n",
       "      <td>9/13/2016 22:25</td>\n",
       "      <td>2020/01/02 07:15:11+00</td>\n",
       "      <td>252</td>\n",
       "    </tr>\n",
       "  </tbody>\n",
       "</table>\n",
       "<p>252 rows × 5 columns</p>\n",
       "</div>"
      ],
      "text/plain": [
       "              Incident_Date Incident_Unit_Arrived_On_Scene_  \\\n",
       "0    2016/09/13 07:00:00+00          2016/09/14 05:09:00+00   \n",
       "1    2017/03/06 07:00:00+00          2017/03/06 21:24:00+00   \n",
       "2    2016/09/13 07:00:00+00          2016/09/14 05:09:00+00   \n",
       "3    2016/09/15 07:00:00+00          2016/09/15 18:12:00+00   \n",
       "4    2016/09/15 07:00:00+00          2016/09/15 18:12:00+00   \n",
       "..                      ...                             ...   \n",
       "247  2016/09/13 07:00:00+00          2016/09/14 05:09:00+00   \n",
       "248  2016/09/13 07:00:00+00          2016/09/14 05:09:00+00   \n",
       "249  2016/09/13 07:00:00+00          2016/09/14 05:09:00+00   \n",
       "250  2016/09/13 07:00:00+00          2016/09/14 05:09:00+00   \n",
       "251  2016/09/13 07:00:00+00          2016/09/14 05:09:00+00   \n",
       "\n",
       "    Medical_Device_Event_Date_Time_ On_Scene_Time_to_First_12_Lead  ObjectId  \n",
       "0                   9/13/2016 22:25         2020/01/02 07:15:11+00         1  \n",
       "1                    3/6/2017 14:45         2020/01/02 07:20:15+00         2  \n",
       "2                   9/13/2016 22:25         2020/01/02 07:15:11+00         3  \n",
       "3                   9/15/2016 11:22         2020/01/02 07:10:41+00         4  \n",
       "4                   9/15/2016 11:22         2020/01/02 07:10:41+00         5  \n",
       "..                              ...                            ...       ...  \n",
       "247                 9/13/2016 22:12         2020/01/02 07:02:49+00       248  \n",
       "248                 9/13/2016 22:21         2020/01/02 07:11:50+00       249  \n",
       "249                 9/13/2016 22:21         2020/01/02 07:11:50+00       250  \n",
       "250                 9/13/2016 22:21         2020/01/02 07:11:50+00       251  \n",
       "251                 9/13/2016 22:25         2020/01/02 07:15:11+00       252  \n",
       "\n",
       "[252 rows x 5 columns]"
      ]
     },
     "execution_count": 5,
     "metadata": {},
     "output_type": "execute_result"
    }
   ],
   "source": [
    "test_data = pd.read_csv(\"../Heart_Attack_detail.csv\")\n",
    "test_data"
   ]
  },
  {
   "cell_type": "code",
   "execution_count": 6,
   "metadata": {
    "pycharm": {
     "is_executing": true
    }
   },
   "outputs": [
    {
     "ename": "ModuleNotFoundError",
     "evalue": "No module named 'geopandas'",
     "output_type": "error",
     "traceback": [
      "\u001b[0;31m---------------------------------------------------------------------------\u001b[0m",
      "\u001b[0;31mModuleNotFoundError\u001b[0m                       Traceback (most recent call last)",
      "\u001b[0;32m<ipython-input-6-a62d01c1d62e>\u001b[0m in \u001b[0;36m<module>\u001b[0;34m\u001b[0m\n\u001b[0;32m----> 1\u001b[0;31m \u001b[0;32mimport\u001b[0m \u001b[0mgeopandas\u001b[0m \u001b[0;32mas\u001b[0m \u001b[0mgpd\u001b[0m\u001b[0;34m\u001b[0m\u001b[0;34m\u001b[0m\u001b[0m\n\u001b[0m",
      "\u001b[0;31mModuleNotFoundError\u001b[0m: No module named 'geopandas'"
     ]
    }
   ],
   "source": [
    "import geopandas as gpd"
   ]
  },
  {
   "cell_type": "code",
   "execution_count": 7,
   "metadata": {
    "pycharm": {
     "is_executing": true
    }
   },
   "outputs": [
    {
     "ename": "NameError",
     "evalue": "name 'gpd' is not defined",
     "output_type": "error",
     "traceback": [
      "\u001b[0;31m---------------------------------------------------------------------------\u001b[0m",
      "\u001b[0;31mNameError\u001b[0m                                 Traceback (most recent call last)",
      "\u001b[0;32m<ipython-input-7-b5f98f10710b>\u001b[0m in \u001b[0;36m<module>\u001b[0;34m\u001b[0m\n\u001b[0;32m----> 1\u001b[0;31m \u001b[0mearthquake\u001b[0m \u001b[0;34m=\u001b[0m \u001b[0mgpd\u001b[0m\u001b[0;34m.\u001b[0m\u001b[0mread_file\u001b[0m\u001b[0;34m(\u001b[0m\u001b[0;34m'Heart_Attack_detail.geojson'\u001b[0m\u001b[0;34m)\u001b[0m\u001b[0;34m\u001b[0m\u001b[0;34m\u001b[0m\u001b[0m\n\u001b[0m\u001b[1;32m      2\u001b[0m \u001b[0mearthquake\u001b[0m\u001b[0;34m\u001b[0m\u001b[0;34m\u001b[0m\u001b[0m\n",
      "\u001b[0;31mNameError\u001b[0m: name 'gpd' is not defined"
     ]
    }
   ],
   "source": [
    "earthquake = gpd.read_file('Heart_Attack_detail.geojson')\n",
    "earthquake"
   ]
  },
  {
   "cell_type": "code",
   "execution_count": 10,
   "metadata": {
    "pycharm": {
     "is_executing": true
    }
   },
   "outputs": [
    {
     "data": {
      "text/plain": [
       "Index(['id', 'material', 'name', 'location.city', 'location.city_id',\n",
       "       'location.country', 'location.country id', 'location.latitude',\n",
       "       'location.longitude', 'purposes.abandoned',\n",
       "       'purposes.air traffic control tower', 'purposes.belltower',\n",
       "       'purposes.bridge', 'purposes.casino', 'purposes.commercial',\n",
       "       'purposes.education', 'purposes.exhibition', 'purposes.government',\n",
       "       'purposes.hospital', 'purposes.hotel', 'purposes.industrial',\n",
       "       'purposes.library', 'purposes.multiple', 'purposes.museum',\n",
       "       'purposes.observation', 'purposes.office', 'purposes.other',\n",
       "       'purposes.religious', 'purposes.residential', 'purposes.retail',\n",
       "       'purposes.serviced apartments', 'purposes.telecommunications',\n",
       "       'statistics.floors above', 'statistics.height',\n",
       "       'statistics.number of purposes', 'statistics.rank', 'status.current',\n",
       "       'status.completed.is completed', 'status.completed.year',\n",
       "       'status.started.is started', 'status.started.year'],\n",
       "      dtype='object')"
      ]
     },
     "execution_count": 10,
     "metadata": {},
     "output_type": "execute_result"
    }
   ],
   "source": [
    "skyscrapper_data = pd.read_csv('../skyscrapers.csv')\n",
    "skyscrapper_data.columns"
   ]
  }
 ],
 "metadata": {
  "interpreter": {
   "hash": "aee8b7b246df8f9039afb4144a1f6fd8d2ca17a180786b69acc140d282b71a49"
  },
  "kernelspec": {
   "display_name": "Python 3",
   "language": "python",
   "name": "python3"
  },
  "language_info": {
   "codemirror_mode": {
    "name": "ipython",
    "version": 3
   },
   "file_extension": ".py",
   "mimetype": "text/x-python",
   "name": "python",
   "nbconvert_exporter": "python",
   "pygments_lexer": "ipython3",
   "version": "3.9.4"
  }
 },
 "nbformat": 4,
 "nbformat_minor": 2
}
